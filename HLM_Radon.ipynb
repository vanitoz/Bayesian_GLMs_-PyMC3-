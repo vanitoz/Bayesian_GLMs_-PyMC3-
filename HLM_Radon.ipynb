{
 "cells": [
  {
   "cell_type": "code",
   "execution_count": 2,
   "id": "febab9d3-6f4d-4f54-bc59-54e1baf2436d",
   "metadata": {},
   "outputs": [],
   "source": [
    "%matplotlib inline\n",
    "\n",
    "import matplotlib.pyplot as plt\n",
    "import numpy as np\n",
    "import pymc3 as pm \n",
    "import pandas as pd\n",
    "\n",
    "data = pd.read_csv('radon.csv')\n",
    "\n",
    "county_names = data.county.unique()\n",
    "county_idx = data['county_code'].values"
   ]
  },
  {
   "cell_type": "code",
   "execution_count": 3,
   "id": "a3867af4-d06d-467f-b873-d319cca533ef",
   "metadata": {},
   "outputs": [
    {
     "data": {
      "text/html": [
       "<div>\n",
       "<style scoped>\n",
       "    .dataframe tbody tr th:only-of-type {\n",
       "        vertical-align: middle;\n",
       "    }\n",
       "\n",
       "    .dataframe tbody tr th {\n",
       "        vertical-align: top;\n",
       "    }\n",
       "\n",
       "    .dataframe thead th {\n",
       "        text-align: right;\n",
       "    }\n",
       "</style>\n",
       "<table border=\"1\" class=\"dataframe\">\n",
       "  <thead>\n",
       "    <tr style=\"text-align: right;\">\n",
       "      <th></th>\n",
       "      <th>county</th>\n",
       "      <th>log_radon</th>\n",
       "      <th>floor</th>\n",
       "    </tr>\n",
       "  </thead>\n",
       "  <tbody>\n",
       "    <tr>\n",
       "      <th>0</th>\n",
       "      <td>AITKIN</td>\n",
       "      <td>0.832909</td>\n",
       "      <td>1.0</td>\n",
       "    </tr>\n",
       "    <tr>\n",
       "      <th>1</th>\n",
       "      <td>AITKIN</td>\n",
       "      <td>0.832909</td>\n",
       "      <td>0.0</td>\n",
       "    </tr>\n",
       "    <tr>\n",
       "      <th>2</th>\n",
       "      <td>AITKIN</td>\n",
       "      <td>1.098612</td>\n",
       "      <td>0.0</td>\n",
       "    </tr>\n",
       "    <tr>\n",
       "      <th>3</th>\n",
       "      <td>AITKIN</td>\n",
       "      <td>0.095310</td>\n",
       "      <td>0.0</td>\n",
       "    </tr>\n",
       "    <tr>\n",
       "      <th>4</th>\n",
       "      <td>ANOKA</td>\n",
       "      <td>1.163151</td>\n",
       "      <td>0.0</td>\n",
       "    </tr>\n",
       "  </tbody>\n",
       "</table>\n",
       "</div>"
      ],
      "text/plain": [
       "   county  log_radon  floor\n",
       "0  AITKIN   0.832909    1.0\n",
       "1  AITKIN   0.832909    0.0\n",
       "2  AITKIN   1.098612    0.0\n",
       "3  AITKIN   0.095310    0.0\n",
       "4   ANOKA   1.163151    0.0"
      ]
     },
     "execution_count": 3,
     "metadata": {},
     "output_type": "execute_result"
    }
   ],
   "source": [
    "data[['county', 'log_radon', 'floor']].head()"
   ]
  },
  {
   "cell_type": "markdown",
   "id": "9093cda1-b8d1-4155-af3f-8adab9f40c4d",
   "metadata": {},
   "source": [
    "As we can see, we have multiple radon measurements (log-converted to be on the real line) in a county and whether the measurement has been taken in the basement (floor == 0) or on the first floor (floor == 1). Here we want to test the prediction that radon concentrations are higher in the basement"
   ]
  },
  {
   "cell_type": "markdown",
   "id": "233a55dc-f2c6-4e3b-9018-db197360b534",
   "metadata": {},
   "source": [
    " In math-speak that model would be:\n",
    "\n",
    "radoni,c=α+β∗floori,c+ϵ"
   ]
  },
  {
   "cell_type": "code",
   "execution_count": 7,
   "id": "a9388711-835d-437d-b7a7-a21fd4d4ade7",
   "metadata": {},
   "outputs": [
    {
     "data": {
      "text/plain": [
       "array(['AITKIN', 'ANOKA', 'BECKER', 'BELTRAMI', 'BENTON', 'BIG STONE',\n",
       "       'BLUE EARTH', 'BROWN', 'CARLTON', 'CARVER', 'CASS', 'CHIPPEWA',\n",
       "       'CHISAGO', 'CLAY', 'CLEARWATER', 'COOK', 'COTTONWOOD', 'CROW WING',\n",
       "       'DAKOTA', 'DODGE', 'DOUGLAS', 'FARIBAULT', 'FILLMORE', 'FREEBORN',\n",
       "       'GOODHUE', 'HENNEPIN', 'HOUSTON', 'HUBBARD', 'ISANTI', 'ITASCA',\n",
       "       'JACKSON', 'KANABEC', 'KANDIYOHI', 'KITTSON', 'KOOCHICHING',\n",
       "       'LAC QUI PARLE', 'LAKE', 'LAKE OF THE WOODS', 'LE SUEUR',\n",
       "       'LINCOLN', 'LYON', 'MAHNOMEN', 'MARSHALL', 'MARTIN', 'MCLEOD',\n",
       "       'MEEKER', 'MILLE LACS', 'MORRISON', 'MOWER', 'MURRAY', 'NICOLLET',\n",
       "       'NOBLES', 'NORMAN', 'OLMSTED', 'OTTER TAIL', 'PENNINGTON', 'PINE',\n",
       "       'PIPESTONE', 'POLK', 'POPE', 'RAMSEY', 'REDWOOD', 'RENVILLE',\n",
       "       'RICE', 'ROCK', 'ROSEAU', 'SCOTT', 'SHERBURNE', 'SIBLEY',\n",
       "       'ST LOUIS', 'STEARNS', 'STEELE', 'STEVENS', 'SWIFT', 'TODD',\n",
       "       'TRAVERSE', 'WABASHA', 'WADENA', 'WASECA', 'WASHINGTON',\n",
       "       'WATONWAN', 'WILKIN', 'WINONA', 'WRIGHT', 'YELLOW MEDICINE'],\n",
       "      dtype=object)"
      ]
     },
     "execution_count": 7,
     "metadata": {},
     "output_type": "execute_result"
    }
   ],
   "source": [
    "data.county.unique()"
   ]
  },
  {
   "cell_type": "markdown",
   "id": "3baffd3a-57c4-4f78-87a0-850b2fc25a60",
   "metadata": {},
   "source": [
    "Fortunately there is a middle ground to both of these extreme views. Specifically, we may assume that while αs and βs are different for each county, the coefficients all come from a common group distribution:\n",
    "\n",
    "αc∼N(μα,σ2α)\n",
    "βc∼N(μβ,σ2β)"
   ]
  },
  {
   "cell_type": "code",
   "execution_count": 11,
   "id": "2a38a9eb-a002-4905-9a1b-f5f69d99a7ae",
   "metadata": {},
   "outputs": [],
   "source": [
    "# takes about 45 minutes\n",
    "indiv_traces = {}\n",
    "for county_name in county_names:\n",
    "    # Select subset of data belonging to county\n",
    "    c_data = data.loc[data.county == county_name]\n",
    "    c_data = c_data.reset_index(drop=True)\n",
    "    \n",
    "    c_log_radon = c_data.log_radon\n",
    "    c_floor_measure = c_data.floor.values\n",
    "    \n",
    "    with pm.Model() as individual_model:\n",
    "        # Intercept prior\n",
    "        a = pm.Normal('alpha', mu=0, sigma=1)\n",
    "        # Slope prior\n",
    "        b = pm.Normal('beta', mu=0, sigma=1)\n",
    "    \n",
    "        # Model error prior\n",
    "        eps = pm.HalfCauchy('eps', beta=1)\n",
    "    \n",
    "        # Linear model\n",
    "        radon_est = a + b * c_floor_measure\n",
    "    \n",
    "        # Data likelihood\n",
    "        y_like = pm.Normal('y_like', mu=radon_est, sigma=eps, observed=c_log_radon)\n",
    "\n",
    "        # Inference button (TM)!\n",
    "        trace = pm.sample()\n",
    "        \n",
    "    indiv_traces[county_name] = trace"
   ]
  },
  {
   "cell_type": "code",
   "execution_count": 12,
   "id": "0f27472a-a89a-4545-b78d-f05ed26e88d1",
   "metadata": {},
   "outputs": [
    {
     "data": {
      "text/plain": [
       "{'AITKIN': <MultiTrace: 2 chains, 1000 iterations, 4 variables>,\n",
       " 'ANOKA': <MultiTrace: 2 chains, 1000 iterations, 4 variables>,\n",
       " 'BECKER': <MultiTrace: 2 chains, 1000 iterations, 4 variables>,\n",
       " 'BELTRAMI': <MultiTrace: 2 chains, 1000 iterations, 4 variables>,\n",
       " 'BENTON': <MultiTrace: 2 chains, 1000 iterations, 4 variables>,\n",
       " 'BIG STONE': <MultiTrace: 2 chains, 1000 iterations, 4 variables>,\n",
       " 'BLUE EARTH': <MultiTrace: 2 chains, 1000 iterations, 4 variables>,\n",
       " 'BROWN': <MultiTrace: 2 chains, 1000 iterations, 4 variables>,\n",
       " 'CARLTON': <MultiTrace: 2 chains, 1000 iterations, 4 variables>,\n",
       " 'CARVER': <MultiTrace: 2 chains, 1000 iterations, 4 variables>,\n",
       " 'CASS': <MultiTrace: 2 chains, 1000 iterations, 4 variables>,\n",
       " 'CHIPPEWA': <MultiTrace: 2 chains, 1000 iterations, 4 variables>,\n",
       " 'CHISAGO': <MultiTrace: 2 chains, 1000 iterations, 4 variables>,\n",
       " 'CLAY': <MultiTrace: 2 chains, 1000 iterations, 4 variables>,\n",
       " 'CLEARWATER': <MultiTrace: 2 chains, 1000 iterations, 4 variables>,\n",
       " 'COOK': <MultiTrace: 2 chains, 1000 iterations, 4 variables>,\n",
       " 'COTTONWOOD': <MultiTrace: 2 chains, 1000 iterations, 4 variables>,\n",
       " 'CROW WING': <MultiTrace: 2 chains, 1000 iterations, 4 variables>,\n",
       " 'DAKOTA': <MultiTrace: 2 chains, 1000 iterations, 4 variables>,\n",
       " 'DODGE': <MultiTrace: 2 chains, 1000 iterations, 4 variables>,\n",
       " 'DOUGLAS': <MultiTrace: 2 chains, 1000 iterations, 4 variables>,\n",
       " 'FARIBAULT': <MultiTrace: 2 chains, 1000 iterations, 4 variables>,\n",
       " 'FILLMORE': <MultiTrace: 2 chains, 1000 iterations, 4 variables>,\n",
       " 'FREEBORN': <MultiTrace: 2 chains, 1000 iterations, 4 variables>,\n",
       " 'GOODHUE': <MultiTrace: 2 chains, 1000 iterations, 4 variables>,\n",
       " 'HENNEPIN': <MultiTrace: 2 chains, 1000 iterations, 4 variables>,\n",
       " 'HOUSTON': <MultiTrace: 2 chains, 1000 iterations, 4 variables>,\n",
       " 'HUBBARD': <MultiTrace: 2 chains, 1000 iterations, 4 variables>,\n",
       " 'ISANTI': <MultiTrace: 2 chains, 1000 iterations, 4 variables>,\n",
       " 'ITASCA': <MultiTrace: 2 chains, 1000 iterations, 4 variables>,\n",
       " 'JACKSON': <MultiTrace: 2 chains, 1000 iterations, 4 variables>,\n",
       " 'KANABEC': <MultiTrace: 2 chains, 1000 iterations, 4 variables>,\n",
       " 'KANDIYOHI': <MultiTrace: 2 chains, 1000 iterations, 4 variables>,\n",
       " 'KITTSON': <MultiTrace: 2 chains, 1000 iterations, 4 variables>,\n",
       " 'KOOCHICHING': <MultiTrace: 2 chains, 1000 iterations, 4 variables>,\n",
       " 'LAC QUI PARLE': <MultiTrace: 2 chains, 1000 iterations, 4 variables>,\n",
       " 'LAKE': <MultiTrace: 2 chains, 1000 iterations, 4 variables>,\n",
       " 'LAKE OF THE WOODS': <MultiTrace: 2 chains, 1000 iterations, 4 variables>,\n",
       " 'LE SUEUR': <MultiTrace: 2 chains, 1000 iterations, 4 variables>,\n",
       " 'LINCOLN': <MultiTrace: 2 chains, 999 iterations, 4 variables>}"
      ]
     },
     "execution_count": 12,
     "metadata": {},
     "output_type": "execute_result"
    }
   ],
   "source": [
    "indiv_traces"
   ]
  },
  {
   "cell_type": "code",
   "execution_count": null,
   "id": "5a839c26-c3c4-4060-b21a-e149d60cb6e3",
   "metadata": {},
   "outputs": [],
   "source": []
  }
 ],
 "metadata": {
  "kernelspec": {
   "display_name": "Python 3",
   "language": "python",
   "name": "python3"
  },
  "language_info": {
   "codemirror_mode": {
    "name": "ipython",
    "version": 3
   },
   "file_extension": ".py",
   "mimetype": "text/x-python",
   "name": "python",
   "nbconvert_exporter": "python",
   "pygments_lexer": "ipython3",
   "version": "3.7.3"
  }
 },
 "nbformat": 4,
 "nbformat_minor": 5
}
